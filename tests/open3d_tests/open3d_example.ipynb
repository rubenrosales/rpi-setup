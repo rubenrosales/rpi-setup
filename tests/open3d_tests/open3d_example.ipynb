{
 "cells": [
  {
   "cell_type": "code",
   "execution_count": 1,
   "metadata": {},
   "outputs": [],
   "source": [
    "# ----------------------------------------------------------------------------\n",
    "# -                        Open3D: www.open3d.org                            -\n",
    "# ----------------------------------------------------------------------------\n",
    "# Copyright (c) 2018-2023 www.open3d.org\n",
    "# SPDX-License-Identifier: MIT\n",
    "# ----------------------------------------------------------------------------\n",
    "\"\"\"ICP (Iterative Closest Point) registration algorithm\"\"\"\n",
    "\n",
    "import open3d as o3d\n",
    "import numpy as np\n",
    "import copy\n",
    "\n",
    "\n",
    "def draw_registration_result(source, target, transformation):\n",
    "    source_temp = copy.deepcopy(source)\n",
    "    target_temp = copy.deepcopy(target)\n",
    "    source_temp.paint_uniform_color([1, 0.706, 0])\n",
    "    target_temp.paint_uniform_color([0, 0.651, 0.929])\n",
    "    source_temp.transform(transformation)\n",
    "    o3d.visualization.draw([source_temp, target_temp])\n",
    "\n",
    "\n",
    "def point_to_point_icp(source, target, threshold, trans_init):\n",
    "    print(\"Apply point-to-point ICP\")\n",
    "    reg_p2p = o3d.pipelines.registration.registration_icp(\n",
    "        source, target, threshold, trans_init,\n",
    "        o3d.pipelines.registration.TransformationEstimationPointToPoint())\n",
    "    print(reg_p2p)\n",
    "    print(\"Transformation is:\")\n",
    "    print(reg_p2p.transformation, \"\\n\")\n",
    "    draw_registration_result(source, target, reg_p2p.transformation)\n",
    "\n",
    "\n",
    "def point_to_plane_icp(source, target, threshold, trans_init):\n",
    "    print(\"Apply point-to-plane ICP\")\n",
    "    reg_p2l = o3d.pipelines.registration.registration_icp(\n",
    "        source, target, threshold, trans_init,\n",
    "        o3d.pipelines.registration.TransformationEstimationPointToPlane())\n",
    "    print(reg_p2l)\n",
    "    print(\"Transformation is:\")\n",
    "    print(reg_p2l.transformation, \"\\n\")\n",
    "    draw_registration_result(source, target, reg_p2l.transformation)\n",
    "\n",
    "\n",
    "# if __name__ == \"__main__\":\n",
    "#     pcd_data = o3d.data.DemoICPPointClouds()\n",
    "#     source = o3d.io.read_point_cloud(pcd_data.paths[0])\n",
    "#     target = o3d.io.read_point_cloud(pcd_data.paths[1])\n",
    "#     threshold = 0.02\n",
    "#     trans_init = np.asarray([[0.862, 0.011, -0.507, 0.5],\n",
    "#                              [-0.139, 0.967, -0.215, 0.7],\n",
    "#                              [0.487, 0.255, 0.835, -1.4], [0.0, 0.0, 0.0, 1.0]])\n",
    "#     draw_registration_result(source, target, trans_init)\n",
    "\n",
    "#     print(\"Initial alignment\")\n",
    "#     evaluation = o3d.pipelines.registration.evaluate_registration(\n",
    "#         source, target, threshold, trans_init)\n",
    "#     print(evaluation, \"\\n\")\n",
    "\n",
    "#     point_to_point_icp(source, target, threshold, trans_init)\n",
    "#     point_to_plane_icp(source, target, threshold, trans_init)"
   ]
  },
  {
   "cell_type": "code",
   "execution_count": 2,
   "metadata": {},
   "outputs": [],
   "source": [
    "pcd_data = o3d.data.DemoICPPointClouds()"
   ]
  },
  {
   "cell_type": "code",
   "execution_count": 3,
   "metadata": {},
   "outputs": [],
   "source": [
    "source = o3d.io.read_point_cloud(pcd_data.paths[0])\n",
    "target = o3d.io.read_point_cloud(pcd_data.paths[1])\n"
   ]
  },
  {
   "cell_type": "code",
   "execution_count": 4,
   "metadata": {},
   "outputs": [],
   "source": [
    "threshold = 0.02\n",
    "trans_init = np.asarray([[0.862, 0.011, -0.507, 0.5],\n",
    "                            [-0.139, 0.967, -0.215, 0.7],\n",
    "                            [0.487, 0.255, 0.835, -1.4], [0.0, 0.0, 0.0, 1.0]])\n"
   ]
  },
  {
   "cell_type": "code",
   "execution_count": null,
   "metadata": {},
   "outputs": [
    {
     "ename": "",
     "evalue": "",
     "output_type": "error",
     "traceback": [
      "\u001b[1;31mThe Kernel crashed while executing code in the current cell or a previous cell. \n",
      "\u001b[1;31mPlease review the code in the cell(s) to identify a possible cause of the failure. \n",
      "\u001b[1;31mClick <a href='https://aka.ms/vscodeJupyterKernelCrash'>here</a> for more info. \n",
      "\u001b[1;31mView Jupyter <a href='command:jupyter.viewOutput'>log</a> for further details."
     ]
    }
   ],
   "source": [
    "\n",
    "print(\"Initial alignment\")\n",
    "evaluation = o3d.pipelines.registration.evaluate_registration(\n",
    "    source, target, threshold, trans_init)\n",
    "print(evaluation, \"\\n\")\n"
   ]
  },
  {
   "cell_type": "code",
   "execution_count": null,
   "metadata": {},
   "outputs": [],
   "source": [
    "\n",
    "point_to_point_icp(source, target, threshold, trans_init)\n",
    "point_to_plane_icp(source, target, threshold, trans_init)"
   ]
  }
 ],
 "metadata": {
  "kernelspec": {
   "display_name": "venv",
   "language": "python",
   "name": "python3"
  },
  "language_info": {
   "codemirror_mode": {
    "name": "ipython",
    "version": 3
   },
   "file_extension": ".py",
   "mimetype": "text/x-python",
   "name": "python",
   "nbconvert_exporter": "python",
   "pygments_lexer": "ipython3",
   "version": "3.11.2"
  }
 },
 "nbformat": 4,
 "nbformat_minor": 2
}
